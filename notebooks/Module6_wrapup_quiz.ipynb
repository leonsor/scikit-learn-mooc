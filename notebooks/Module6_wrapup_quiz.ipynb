{
 "cells": [
  {
   "cell_type": "markdown",
   "metadata": {},
   "source": [
    "## Module 6 Wrap-up Notebook"
   ]
  },
  {
   "cell_type": "code",
   "execution_count": 1,
   "metadata": {},
   "outputs": [],
   "source": [
    "import pandas as pd\n",
    "\n",
    "dataset = pd.read_csv(\"../datasets/penguins.csv\")\n",
    "\n",
    "feature_names = [\n",
    "    \"Culmen Length (mm)\",\n",
    "    \"Culmen Depth (mm)\",\n",
    "    \"Flipper Length (mm)\",\n",
    "]\n",
    "target_name = \"Body Mass (g)\"\n",
    "\n",
    "dataset = dataset[feature_names + [target_name]].dropna(axis=\"rows\", how=\"any\")\n",
    "dataset = dataset.sample(frac=1, random_state=0).reset_index(drop=True)\n",
    "data, target = dataset[feature_names], dataset[target_name]"
   ]
  },
  {
   "cell_type": "code",
   "execution_count": 2,
   "metadata": {},
   "outputs": [],
   "source": [
    "from sklearn.tree import DecisionTreeRegressor\n",
    "from sklearn.ensemble import RandomForestRegressor\n",
    "\n",
    "tree = DecisionTreeRegressor(random_state=0)\n",
    "forest = RandomForestRegressor(random_state=0)"
   ]
  },
  {
   "cell_type": "code",
   "execution_count": 3,
   "metadata": {},
   "outputs": [],
   "source": [
    "from sklearn.model_selection import cross_validate\n",
    "result_tree = cross_validate(tree, data, target, cv=10, return_train_score=True)\n",
    "result_forest = cross_validate(forest, data, target, cv=10, return_train_score=True)"
   ]
  },
  {
   "cell_type": "code",
   "execution_count": 4,
   "metadata": {},
   "outputs": [],
   "source": [
    "result_tree_df = pd.DataFrame(result_tree)\n",
    "result_forest_df = pd.DataFrame(result_forest)"
   ]
  },
  {
   "cell_type": "code",
   "execution_count": 25,
   "metadata": {},
   "outputs": [
    {
     "name": "stdout",
     "output_type": "stream",
     "text": [
      "Test scores comparison for Decision Tree Regressor and Random Forest Regressor \n",
      "Decision Tree Regressor wins 0 times, Random Forest wins 10 times\n"
     ]
    }
   ],
   "source": [
    "tree_win, forest_win = 0, 0\n",
    "for i in range(0,10):\n",
    "    if result_tree_df.loc[i, 'test_score'] > result_forest_df.loc[i,'test_score']:\n",
    "        tree_win = tree_win + 1\n",
    "    else:\n",
    "        forest_win = forest_win + 1\n",
    "print(f\"Test scores comparison for Decision Tree Regressor and Random Forest Regressor \\n\"\n",
    "      f\"Decision Tree Regressor wins {tree_win} times, Random Forest wins {forest_win} times\")"
   ]
  },
  {
   "cell_type": "code",
   "execution_count": 26,
   "metadata": {},
   "outputs": [
    {
     "name": "stdout",
     "output_type": "stream",
     "text": [
      "Test scores comparison for First result set and Second result set \n",
      "First Result set wins 0 times, Second result set wins 10 times\n"
     ]
    }
   ],
   "source": [
    "import helpers.myfunctions as my\n",
    "my.find_winner(result_tree_df, result_forest_df, 'test_score')"
   ]
  },
  {
   "cell_type": "code",
   "execution_count": 6,
   "metadata": {},
   "outputs": [
    {
     "name": "stdout",
     "output_type": "stream",
     "text": [
      "fold 0,  tree score 0.596505579544317, forest score 0.7881253335128175\n",
      "fold 1,  tree score 0.6695771296524032, forest score 0.7743610418370713\n",
      "fold 2,  tree score 0.7193111982717033, forest score 0.8887139558277576\n",
      "fold 3,  tree score 0.8184209040231694, forest score 0.8466142701366872\n",
      "fold 4,  tree score 0.6242817971777523, forest score 0.7804364364679472\n",
      "fold 5,  tree score 0.7248315652470422, forest score 0.8577146123309887\n",
      "fold 6,  tree score 0.5309070176706967, forest score 0.7918566232853458\n",
      "fold 7,  tree score 0.5165539834111661, forest score 0.7354326827908273\n",
      "fold 8,  tree score 0.584217850287908, forest score 0.7648528131797825\n",
      "fold 9,  tree score 0.49038086460027, forest score 0.8077531020690433\n"
     ]
    }
   ],
   "source": [
    "for i in range(0,10):\n",
    "    print(f\"fold {i},  tree score {result_tree_df.loc[i, 'test_score']}, forest score {result_forest_df.loc[i, 'test_score']}\")"
   ]
  },
  {
   "cell_type": "code",
   "execution_count": 7,
   "metadata": {},
   "outputs": [],
   "source": [
    "forest_5 = RandomForestRegressor(n_estimators=5, random_state=0)\n",
    "result_forest_5 = cross_validate(forest_5, data, target, cv=10, return_train_score=True)\n",
    "result_forest_5_df = pd.DataFrame(result_forest_5)"
   ]
  },
  {
   "cell_type": "code",
   "execution_count": 8,
   "metadata": {},
   "outputs": [],
   "source": [
    "forest_100 = RandomForestRegressor(n_estimators=100, random_state=0)\n",
    "result_forest_100 = cross_validate(forest_100, data, target, cv=10, return_train_score=True)\n",
    "result_forest_100_df = pd.DataFrame(result_forest_100)"
   ]
  },
  {
   "cell_type": "code",
   "execution_count": 9,
   "metadata": {},
   "outputs": [
    {
     "name": "stdout",
     "output_type": "stream",
     "text": [
      "fold 0,  forest 5 trees score 0.7723518305668596, forest score 0.7881253335128175\n",
      "fold 1,  forest 5 trees score 0.6580271770320333, forest score 0.7743610418370713\n",
      "fold 2,  forest 5 trees score 0.8584951905530969, forest score 0.8887139558277576\n",
      "fold 3,  forest 5 trees score 0.8202906384203124, forest score 0.8466142701366872\n",
      "fold 4,  forest 5 trees score 0.7892196354569381, forest score 0.7804364364679472\n",
      "fold 5,  forest 5 trees score 0.8512651261146451, forest score 0.8577146123309887\n",
      "fold 6,  forest 5 trees score 0.7788118929673208, forest score 0.7918566232853458\n",
      "fold 7,  forest 5 trees score 0.6144531957900606, forest score 0.7354326827908273\n",
      "fold 8,  forest 5 trees score 0.7645320537428023, forest score 0.7648528131797825\n",
      "fold 9,  forest 5 trees score 0.7611933964598083, forest score 0.8077531020690433\n"
     ]
    }
   ],
   "source": [
    "for i in range(0,10):\n",
    "    print(f\"fold {i},  forest 5 trees score {result_forest_5_df.loc[i, 'test_score']}, forest score {result_forest_100_df.loc[i, 'test_score']}\")"
   ]
  },
  {
   "cell_type": "code",
   "execution_count": 10,
   "metadata": {},
   "outputs": [
    {
     "name": "stdout",
     "output_type": "stream",
     "text": [
      "Test scores comparison for Decision Tree Regressor and Random Forest Regressor \n",
      "Forest with 5 trees wins 1 times, Random Forest 100 trees wins 9 times\n"
     ]
    }
   ],
   "source": [
    "forest_5_win, forest_100_win = 0, 0\n",
    "for i in range(0,10):\n",
    "    if result_forest_5_df.loc[i, 'test_score'] > result_forest_100_df.loc[i,'test_score']:\n",
    "        forest_5_win = forest_5_win + 1\n",
    "    else:\n",
    "        forest_100_win = forest_100_win + 1\n",
    "print(f\"Test scores comparison for Decision Tree Regressor and Random Forest Regressor \\n\"\n",
    "      f\"Forest with 5 trees wins {forest_5_win} times, Random Forest 100 trees wins {forest_100_win} times\")"
   ]
  },
  {
   "cell_type": "code",
   "execution_count": 21,
   "metadata": {},
   "outputs": [
    {
     "name": "stdout",
     "output_type": "stream",
     "text": [
      "Test scores comparison for First result set and Second result set \n",
      "First Result set wins 1 times, Second result set wins 9 times\n"
     ]
    }
   ],
   "source": [
    "my.find_winner(result_forest_5_df, result_forest_100_df, 'test_score')"
   ]
  },
  {
   "cell_type": "code",
   "execution_count": 11,
   "metadata": {},
   "outputs": [],
   "source": [
    "# solution\n",
    "from sklearn.model_selection import validation_curve\n",
    "forest = RandomForestRegressor(random_state=0)\n",
    "\n",
    "param_range = [1, 2, 5, 10, 20, 50, 100, 200, 500, 1_000]\n",
    "\n",
    "train_scores, test_scores = validation_curve(\n",
    "    forest,\n",
    "    data,\n",
    "    target,\n",
    "    param_name=\"n_estimators\",\n",
    "    param_range=param_range,\n",
    "    n_jobs=2,\n",
    ")"
   ]
  },
  {
   "cell_type": "code",
   "execution_count": 36,
   "metadata": {},
   "outputs": [
    {
     "data": {
      "image/png": "[encoded data removed]",
      "text/plain": [
       "<Figure size 432x288 with 1 Axes>"
      ]
     },
     "metadata": {
      "needs_background": "light"
     },
     "output_type": "display_data"
    }
   ],
   "source": [
    "import matplotlib.pyplot as plt\n",
    "\n",
    "plt.errorbar(\n",
    "    param_range,\n",
    "    train_scores.mean(axis=1),\n",
    "    yerr=train_scores.std(axis=1),\n",
    "    label=\"Training scores\",\n",
    ")\n",
    "plt.errorbar(\n",
    "    param_range,\n",
    "    test_scores.mean(axis=1),\n",
    "    yerr=test_scores.std(axis=1),\n",
    "    label=\"Test Scores\",\n",
    ")\n",
    "plt.legend()\n",
    "plt.xscale(\"log\")\n",
    "plt.xlabel(\"Number of trees\")\n",
    "plt.ylabel(\"R2 Score\")\n",
    "plt.ylim([0, 1])\n",
    "_ = plt.title(\"Validation curve for Random Forest\")"
   ]
  },
  {
   "cell_type": "code",
   "execution_count": 13,
   "metadata": {},
   "outputs": [],
   "source": [
    "from sklearn.model_selection import validation_curve\n",
    "forest_d5 = RandomForestRegressor(max_depth=5 ,random_state=0)\n",
    "\n",
    "param_range = [1, 2, 5, 10, 20, 50, 100, 200, 500, 1_000]\n",
    "\n",
    "train_scores_d5, test_scores_d5 = validation_curve(\n",
    "    forest_d5,\n",
    "    data,\n",
    "    target,\n",
    "    param_name=\"n_estimators\",\n",
    "    param_range=param_range,\n",
    "    n_jobs=2,\n",
    ")"
   ]
  },
  {
   "cell_type": "code",
   "execution_count": 35,
   "metadata": {},
   "outputs": [
    {
     "data": {
      "image/png": "[encoded data removed]",
      "text/plain": [
       "<Figure size 432x288 with 1 Axes>"
      ]
     },
     "metadata": {
      "needs_background": "light"
     },
     "output_type": "display_data"
    }
   ],
   "source": [
    "import matplotlib.pyplot as plt\n",
    "\n",
    "plt.errorbar(\n",
    "    param_range,\n",
    "    train_scores_d5.mean(axis=1),\n",
    "    yerr=train_scores_d5.std(axis=1),\n",
    "    label=\"Training scores\",\n",
    ")\n",
    "plt.errorbar(\n",
    "    param_range,\n",
    "    test_scores_d5.mean(axis=1),\n",
    "    yerr=test_scores_d5.std(axis=1),\n",
    "    label=\"Test Scores\",\n",
    ")\n",
    "plt.legend()\n",
    "plt.xscale(\"log\")\n",
    "plt.xlabel(\"Number of trees\")\n",
    "plt.ylabel(\"R2 Score\")\n",
    "plt.ylim([0, 1])\n",
    "_ = plt.title(\"Validation curve for Random Forest with max_depth=5 \")"
   ]
  },
  {
   "cell_type": "code",
   "execution_count": 19,
   "metadata": {},
   "outputs": [],
   "source": [
    "def find_winner(result_first, result_second, variable):\n",
    "    \"\"\"\n",
    "    This function compares the test scores of a cross-validation\n",
    "    fold by fold, summarizes the amount of times the test scores\n",
    "    were higher.\n",
    "    input parameters: first data set, second data set, variable to compare \n",
    "    (normally 'test_score' for cross-validation) \n",
    "    \"\"\"\n",
    "    sum_first, sum_second = 0, 0\n",
    "    for i in range(0, result_first[variable].count()):\n",
    "        if result_first.loc[i, 'test_score'] > result_second.loc[i,'test_score']:\n",
    "            sum_first = sum_first + 1\n",
    "        else:\n",
    "            sum_second = sum_second + 1\n",
    "    print(f\"Test scores comparison for First result set and Second result set \\n\"\n",
    "          f\"First Result set wins {sum_first} times, Second result set wins {sum_second} times\")"
   ]
  },
  {
   "cell_type": "code",
   "execution_count": 27,
   "metadata": {},
   "outputs": [
    {
     "data": {
      "text/plain": [
       "array([0.83120264, 0.83309064, 0.83195043, 0.84834224, 0.85790323,\n",
       "       0.86235297, 0.84791111, 0.85183089, 0.82241954, 0.85045978])"
      ]
     },
     "execution_count": 27,
     "metadata": {},
     "output_type": "execute_result"
    }
   ],
   "source": [
    "rf_1_tree = RandomForestRegressor(n_estimators=1, random_state=0)\n",
    "cv_results_tree = cross_validate(\n",
    "    rf_1_tree, data, target, cv=10, return_train_score=True\n",
    ")\n",
    "cv_results_tree[\"train_score\"]"
   ]
  },
  {
   "cell_type": "code",
   "execution_count": 28,
   "metadata": {},
   "outputs": [
    {
     "data": {
      "text/plain": [
       "array([1., 1., 1., 1., 1., 1., 1., 1., 1., 1.])"
      ]
     },
     "execution_count": 28,
     "metadata": {},
     "output_type": "execute_result"
    }
   ],
   "source": [
    "tree = DecisionTreeRegressor(random_state=0)\n",
    "cv_results_tree = cross_validate(\n",
    "    tree, data, target, cv=10, return_train_score=True\n",
    ")\n",
    "cv_results_tree[\"train_score\"]"
   ]
  },
  {
   "cell_type": "code",
   "execution_count": 29,
   "metadata": {},
   "outputs": [
    {
     "data": {
      "text/plain": [
       "array([0.59650558, 0.66957713, 0.7193112 , 0.8184209 , 0.6242818 ,\n",
       "       0.72483157, 0.53090702, 0.51655398, 0.58421785, 0.49038086])"
      ]
     },
     "execution_count": 29,
     "metadata": {},
     "output_type": "execute_result"
    }
   ],
   "source": [
    "cv_results_tree['test_score']"
   ]
  },
  {
   "cell_type": "code",
   "execution_count": 30,
   "metadata": {},
   "outputs": [],
   "source": [
    "from sklearn.model_selection import validation_curve\n",
    "from sklearn.ensemble import HistGradientBoostingRegressor\n",
    "\n",
    "hist = HistGradientBoostingRegressor(random_state=0)\n",
    "\n",
    "param_range = [1, 2, 5, 10, 20, 50, 100, 200, 500, 1_000]\n",
    "\n",
    "train_scores_hist, test_scores_hist = validation_curve(\n",
    "    hist,\n",
    "    data,\n",
    "    target,\n",
    "    param_name=\"max_iter\",\n",
    "    param_range=param_range,\n",
    "    n_jobs=2,\n",
    ")"
   ]
  },
  {
   "cell_type": "code",
   "execution_count": 34,
   "metadata": {},
   "outputs": [
    {
     "data": {
      "image/png": "[encoded data removed]",
      "text/plain": [
       "<Figure size 432x288 with 1 Axes>"
      ]
     },
     "metadata": {
      "needs_background": "light"
     },
     "output_type": "display_data"
    }
   ],
   "source": [
    "import matplotlib.pyplot as plt\n",
    "\n",
    "plt.errorbar(\n",
    "    param_range,\n",
    "    train_scores_hist.mean(axis=1),\n",
    "    yerr=train_scores_hist.std(axis=1),\n",
    "    label=\"Training scores\",\n",
    ")\n",
    "plt.errorbar(\n",
    "    param_range,\n",
    "    test_scores_hist.mean(axis=1),\n",
    "    yerr=test_scores_hist.std(axis=1),\n",
    "    label=\"Test Scores\",\n",
    ")\n",
    "plt.legend()\n",
    "plt.xscale(\"log\")\n",
    "plt.xlabel(\"Number of trees\")\n",
    "plt.ylabel(\"R2 Score\")\n",
    "plt.ylim([0, 1])\n",
    "_ = plt.title(\"Validation curve for HistGradientBoosting Regressor \")"
   ]
  }
 ],
 "metadata": {
  "interpreter": {
   "hash": "40469cbefc865c98a6a8a50bfa4bd6fc483fa3f708d1590d8e65e598cca438ff"
  },
  "kernelspec": {
   "display_name": "Python 3.10.4 64-bit (windows store)",
   "language": "python",
   "name": "python3"
  },
  "language_info": {
   "codemirror_mode": {
    "name": "ipython",
    "version": 3
   },
   "file_extension": ".py",
   "mimetype": "text/x-python",
   "name": "python",
   "nbconvert_exporter": "python",
   "pygments_lexer": "ipython3",
   "version": "3.10.4"
  },
  "orig_nbformat": 4
 },
 "nbformat": 4,
 "nbformat_minor": 2
}
