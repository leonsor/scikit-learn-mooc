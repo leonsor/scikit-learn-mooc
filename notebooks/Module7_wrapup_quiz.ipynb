{
 "cells": [
  {
   "cell_type": "markdown",
   "metadata": {},
   "source": [
    "### Module 7 Wrap-up quiz"
   ]
  },
  {
   "cell_type": "code",
   "execution_count": 1,
   "metadata": {},
   "outputs": [
    {
     "data": {
      "text/html": [
       "<div>\n",
       "<style scoped>\n",
       "    .dataframe tbody tr th:only-of-type {\n",
       "        vertical-align: middle;\n",
       "    }\n",
       "\n",
       "    .dataframe tbody tr th {\n",
       "        vertical-align: top;\n",
       "    }\n",
       "\n",
       "    .dataframe thead th {\n",
       "        text-align: right;\n",
       "    }\n",
       "</style>\n",
       "<table border=\"1\" class=\"dataframe\">\n",
       "  <thead>\n",
       "    <tr style=\"text-align: right;\">\n",
       "      <th></th>\n",
       "      <th>heart-rate</th>\n",
       "      <th>cadence</th>\n",
       "      <th>speed</th>\n",
       "      <th>acceleration</th>\n",
       "      <th>slope</th>\n",
       "    </tr>\n",
       "    <tr>\n",
       "      <th></th>\n",
       "      <th></th>\n",
       "      <th></th>\n",
       "      <th></th>\n",
       "      <th></th>\n",
       "      <th></th>\n",
       "    </tr>\n",
       "  </thead>\n",
       "  <tbody>\n",
       "    <tr>\n",
       "      <th>2020-08-18 14:43:19</th>\n",
       "      <td>102.0</td>\n",
       "      <td>64.0</td>\n",
       "      <td>4.325</td>\n",
       "      <td>0.0880</td>\n",
       "      <td>-0.033870</td>\n",
       "    </tr>\n",
       "    <tr>\n",
       "      <th>2020-08-18 14:43:20</th>\n",
       "      <td>103.0</td>\n",
       "      <td>64.0</td>\n",
       "      <td>4.336</td>\n",
       "      <td>0.0842</td>\n",
       "      <td>-0.033571</td>\n",
       "    </tr>\n",
       "    <tr>\n",
       "      <th>2020-08-18 14:43:21</th>\n",
       "      <td>105.0</td>\n",
       "      <td>66.0</td>\n",
       "      <td>4.409</td>\n",
       "      <td>0.0234</td>\n",
       "      <td>-0.033223</td>\n",
       "    </tr>\n",
       "    <tr>\n",
       "      <th>2020-08-18 14:43:22</th>\n",
       "      <td>106.0</td>\n",
       "      <td>66.0</td>\n",
       "      <td>4.445</td>\n",
       "      <td>0.0016</td>\n",
       "      <td>-0.032908</td>\n",
       "    </tr>\n",
       "    <tr>\n",
       "      <th>2020-08-18 14:43:23</th>\n",
       "      <td>106.0</td>\n",
       "      <td>67.0</td>\n",
       "      <td>4.441</td>\n",
       "      <td>0.1144</td>\n",
       "      <td>0.000000</td>\n",
       "    </tr>\n",
       "    <tr>\n",
       "      <th>...</th>\n",
       "      <td>...</td>\n",
       "      <td>...</td>\n",
       "      <td>...</td>\n",
       "      <td>...</td>\n",
       "      <td>...</td>\n",
       "    </tr>\n",
       "    <tr>\n",
       "      <th>2020-09-13 14:55:57</th>\n",
       "      <td>130.0</td>\n",
       "      <td>0.0</td>\n",
       "      <td>1.054</td>\n",
       "      <td>0.0234</td>\n",
       "      <td>0.000000</td>\n",
       "    </tr>\n",
       "    <tr>\n",
       "      <th>2020-09-13 14:55:58</th>\n",
       "      <td>130.0</td>\n",
       "      <td>0.0</td>\n",
       "      <td>0.829</td>\n",
       "      <td>0.0258</td>\n",
       "      <td>0.000000</td>\n",
       "    </tr>\n",
       "    <tr>\n",
       "      <th>2020-09-13 14:55:59</th>\n",
       "      <td>129.0</td>\n",
       "      <td>0.0</td>\n",
       "      <td>0.616</td>\n",
       "      <td>-0.1686</td>\n",
       "      <td>0.000000</td>\n",
       "    </tr>\n",
       "    <tr>\n",
       "      <th>2020-09-13 14:56:00</th>\n",
       "      <td>130.0</td>\n",
       "      <td>0.0</td>\n",
       "      <td>0.000</td>\n",
       "      <td>-0.4284</td>\n",
       "      <td>0.000000</td>\n",
       "    </tr>\n",
       "    <tr>\n",
       "      <th>2020-09-13 14:56:01</th>\n",
       "      <td>130.0</td>\n",
       "      <td>0.0</td>\n",
       "      <td>0.000</td>\n",
       "      <td>-0.3096</td>\n",
       "      <td>0.000000</td>\n",
       "    </tr>\n",
       "  </tbody>\n",
       "</table>\n",
       "<p>38254 rows × 5 columns</p>\n",
       "</div>"
      ],
      "text/plain": [
       "                     heart-rate  cadence  speed  acceleration     slope\n",
       "                                                                       \n",
       "2020-08-18 14:43:19       102.0     64.0  4.325        0.0880 -0.033870\n",
       "2020-08-18 14:43:20       103.0     64.0  4.336        0.0842 -0.033571\n",
       "2020-08-18 14:43:21       105.0     66.0  4.409        0.0234 -0.033223\n",
       "2020-08-18 14:43:22       106.0     66.0  4.445        0.0016 -0.032908\n",
       "2020-08-18 14:43:23       106.0     67.0  4.441        0.1144  0.000000\n",
       "...                         ...      ...    ...           ...       ...\n",
       "2020-09-13 14:55:57       130.0      0.0  1.054        0.0234  0.000000\n",
       "2020-09-13 14:55:58       130.0      0.0  0.829        0.0258  0.000000\n",
       "2020-09-13 14:55:59       129.0      0.0  0.616       -0.1686  0.000000\n",
       "2020-09-13 14:56:00       130.0      0.0  0.000       -0.4284  0.000000\n",
       "2020-09-13 14:56:01       130.0      0.0  0.000       -0.3096  0.000000\n",
       "\n",
       "[38254 rows x 5 columns]"
      ]
     },
     "execution_count": 1,
     "metadata": {},
     "output_type": "execute_result"
    }
   ],
   "source": [
    "import pandas as pd\n",
    "\n",
    "cycling = pd.read_csv(\"../datasets/bike_rides.csv\", index_col=0,\n",
    "                      parse_dates=True)\n",
    "cycling.index.name = \"\"\n",
    "target_name = \"power\"\n",
    "data, target = cycling.drop(columns=target_name), cycling[target_name]\n",
    "data"
   ]
  },
  {
   "cell_type": "code",
   "execution_count": 2,
   "metadata": {},
   "outputs": [],
   "source": [
    "import numpy as np\n",
    "data_new = data.drop(columns={\"heart-rate\", \"cadence\"}) # drop unused columns\n",
    "data_new[\"acceleration\"].clip(lower=0, inplace=True) # remove negative acceleration and replace with 0\n",
    "# data_new[\"acceleration\"].describe()"
   ]
  },
  {
   "cell_type": "code",
   "execution_count": 3,
   "metadata": {},
   "outputs": [
    {
     "data": {
      "text/html": [
       "<div>\n",
       "<style scoped>\n",
       "    .dataframe tbody tr th:only-of-type {\n",
       "        vertical-align: middle;\n",
       "    }\n",
       "\n",
       "    .dataframe tbody tr th {\n",
       "        vertical-align: top;\n",
       "    }\n",
       "\n",
       "    .dataframe thead th {\n",
       "        text-align: right;\n",
       "    }\n",
       "</style>\n",
       "<table border=\"1\" class=\"dataframe\">\n",
       "  <thead>\n",
       "    <tr style=\"text-align: right;\">\n",
       "      <th></th>\n",
       "      <th>cube-speed</th>\n",
       "      <th>speed</th>\n",
       "      <th>speed-sine-slope</th>\n",
       "      <th>speed-accel</th>\n",
       "    </tr>\n",
       "    <tr>\n",
       "      <th></th>\n",
       "      <th></th>\n",
       "      <th></th>\n",
       "      <th></th>\n",
       "      <th></th>\n",
       "    </tr>\n",
       "  </thead>\n",
       "  <tbody>\n",
       "    <tr>\n",
       "      <th>2020-08-18 14:43:19</th>\n",
       "      <td>80.901828</td>\n",
       "      <td>4.325</td>\n",
       "      <td>-0.146402</td>\n",
       "      <td>0.380600</td>\n",
       "    </tr>\n",
       "    <tr>\n",
       "      <th>2020-08-18 14:43:20</th>\n",
       "      <td>81.520685</td>\n",
       "      <td>4.336</td>\n",
       "      <td>-0.145482</td>\n",
       "      <td>0.365091</td>\n",
       "    </tr>\n",
       "    <tr>\n",
       "      <th>2020-08-18 14:43:21</th>\n",
       "      <td>85.707790</td>\n",
       "      <td>4.409</td>\n",
       "      <td>-0.146398</td>\n",
       "      <td>0.103171</td>\n",
       "    </tr>\n",
       "    <tr>\n",
       "      <th>2020-08-18 14:43:22</th>\n",
       "      <td>87.824421</td>\n",
       "      <td>4.445</td>\n",
       "      <td>-0.146198</td>\n",
       "      <td>0.007112</td>\n",
       "    </tr>\n",
       "    <tr>\n",
       "      <th>2020-08-18 14:43:23</th>\n",
       "      <td>87.587538</td>\n",
       "      <td>4.441</td>\n",
       "      <td>0.000000</td>\n",
       "      <td>0.508050</td>\n",
       "    </tr>\n",
       "    <tr>\n",
       "      <th>...</th>\n",
       "      <td>...</td>\n",
       "      <td>...</td>\n",
       "      <td>...</td>\n",
       "      <td>...</td>\n",
       "    </tr>\n",
       "    <tr>\n",
       "      <th>2020-09-13 14:55:57</th>\n",
       "      <td>1.170905</td>\n",
       "      <td>1.054</td>\n",
       "      <td>0.000000</td>\n",
       "      <td>0.024664</td>\n",
       "    </tr>\n",
       "    <tr>\n",
       "      <th>2020-09-13 14:55:58</th>\n",
       "      <td>0.569723</td>\n",
       "      <td>0.829</td>\n",
       "      <td>0.000000</td>\n",
       "      <td>0.021388</td>\n",
       "    </tr>\n",
       "    <tr>\n",
       "      <th>2020-09-13 14:55:59</th>\n",
       "      <td>0.233745</td>\n",
       "      <td>0.616</td>\n",
       "      <td>0.000000</td>\n",
       "      <td>0.000000</td>\n",
       "    </tr>\n",
       "    <tr>\n",
       "      <th>2020-09-13 14:56:00</th>\n",
       "      <td>0.000000</td>\n",
       "      <td>0.000</td>\n",
       "      <td>0.000000</td>\n",
       "      <td>0.000000</td>\n",
       "    </tr>\n",
       "    <tr>\n",
       "      <th>2020-09-13 14:56:01</th>\n",
       "      <td>0.000000</td>\n",
       "      <td>0.000</td>\n",
       "      <td>0.000000</td>\n",
       "      <td>0.000000</td>\n",
       "    </tr>\n",
       "  </tbody>\n",
       "</table>\n",
       "<p>38254 rows × 4 columns</p>\n",
       "</div>"
      ],
      "text/plain": [
       "                     cube-speed  speed  speed-sine-slope  speed-accel\n",
       "                                                                     \n",
       "2020-08-18 14:43:19   80.901828  4.325         -0.146402     0.380600\n",
       "2020-08-18 14:43:20   81.520685  4.336         -0.145482     0.365091\n",
       "2020-08-18 14:43:21   85.707790  4.409         -0.146398     0.103171\n",
       "2020-08-18 14:43:22   87.824421  4.445         -0.146198     0.007112\n",
       "2020-08-18 14:43:23   87.587538  4.441          0.000000     0.508050\n",
       "...                         ...    ...               ...          ...\n",
       "2020-09-13 14:55:57    1.170905  1.054          0.000000     0.024664\n",
       "2020-09-13 14:55:58    0.569723  0.829          0.000000     0.021388\n",
       "2020-09-13 14:55:59    0.233745  0.616          0.000000     0.000000\n",
       "2020-09-13 14:56:00    0.000000  0.000          0.000000     0.000000\n",
       "2020-09-13 14:56:01    0.000000  0.000          0.000000     0.000000\n",
       "\n",
       "[38254 rows x 4 columns]"
      ]
     },
     "execution_count": 3,
     "metadata": {},
     "output_type": "execute_result"
    }
   ],
   "source": [
    "import numpy as np\n",
    "data_q1 = pd.DataFrame({\"cube-speed\": np.power(data_new[\"speed\"], 3), # cube of speed\n",
    "                        \"speed\": data_new[\"speed\"], # original speed\n",
    "                        \"speed-sine-slope\": np.sin(np.arctan(data_new[\"slope\"])) * data_new[\"speed\"], # speed times the sine of the slope \n",
    "                        \"speed-accel\": data_new[\"speed\"] * data_new[\"acceleration\"]} # speed multiplied by acceleration\n",
    "                        )\n",
    "data_q1 # new dataframe for the predictive model"
   ]
  },
  {
   "cell_type": "code",
   "execution_count": 4,
   "metadata": {},
   "outputs": [
    {
     "data": {
      "text/html": [
       "<style>#sk-b8710562-da71-4956-b99d-f22cfd39d36e {color: black;background-color: white;}#sk-b8710562-da71-4956-b99d-f22cfd39d36e pre{padding: 0;}#sk-b8710562-da71-4956-b99d-f22cfd39d36e div.sk-toggleable {background-color: white;}#sk-b8710562-da71-4956-b99d-f22cfd39d36e label.sk-toggleable__label {cursor: pointer;display: block;width: 100%;margin-bottom: 0;padding: 0.3em;box-sizing: border-box;text-align: center;}#sk-b8710562-da71-4956-b99d-f22cfd39d36e label.sk-toggleable__label-arrow:before {content: \"▸\";float: left;margin-right: 0.25em;color: #696969;}#sk-b8710562-da71-4956-b99d-f22cfd39d36e label.sk-toggleable__label-arrow:hover:before {color: black;}#sk-b8710562-da71-4956-b99d-f22cfd39d36e div.sk-estimator:hover label.sk-toggleable__label-arrow:before {color: black;}#sk-b8710562-da71-4956-b99d-f22cfd39d36e div.sk-toggleable__content {max-height: 0;max-width: 0;overflow: hidden;text-align: left;background-color: #f0f8ff;}#sk-b8710562-da71-4956-b99d-f22cfd39d36e div.sk-toggleable__content pre {margin: 0.2em;color: black;border-radius: 0.25em;background-color: #f0f8ff;}#sk-b8710562-da71-4956-b99d-f22cfd39d36e input.sk-toggleable__control:checked~div.sk-toggleable__content {max-height: 200px;max-width: 100%;overflow: auto;}#sk-b8710562-da71-4956-b99d-f22cfd39d36e input.sk-toggleable__control:checked~label.sk-toggleable__label-arrow:before {content: \"▾\";}#sk-b8710562-da71-4956-b99d-f22cfd39d36e div.sk-estimator input.sk-toggleable__control:checked~label.sk-toggleable__label {background-color: #d4ebff;}#sk-b8710562-da71-4956-b99d-f22cfd39d36e div.sk-label input.sk-toggleable__control:checked~label.sk-toggleable__label {background-color: #d4ebff;}#sk-b8710562-da71-4956-b99d-f22cfd39d36e input.sk-hidden--visually {border: 0;clip: rect(1px 1px 1px 1px);clip: rect(1px, 1px, 1px, 1px);height: 1px;margin: -1px;overflow: hidden;padding: 0;position: absolute;width: 1px;}#sk-b8710562-da71-4956-b99d-f22cfd39d36e div.sk-estimator {font-family: monospace;background-color: #f0f8ff;border: 1px dotted black;border-radius: 0.25em;box-sizing: border-box;margin-bottom: 0.5em;}#sk-b8710562-da71-4956-b99d-f22cfd39d36e div.sk-estimator:hover {background-color: #d4ebff;}#sk-b8710562-da71-4956-b99d-f22cfd39d36e div.sk-parallel-item::after {content: \"\";width: 100%;border-bottom: 1px solid gray;flex-grow: 1;}#sk-b8710562-da71-4956-b99d-f22cfd39d36e div.sk-label:hover label.sk-toggleable__label {background-color: #d4ebff;}#sk-b8710562-da71-4956-b99d-f22cfd39d36e div.sk-serial::before {content: \"\";position: absolute;border-left: 1px solid gray;box-sizing: border-box;top: 2em;bottom: 0;left: 50%;}#sk-b8710562-da71-4956-b99d-f22cfd39d36e div.sk-serial {display: flex;flex-direction: column;align-items: center;background-color: white;padding-right: 0.2em;padding-left: 0.2em;}#sk-b8710562-da71-4956-b99d-f22cfd39d36e div.sk-item {z-index: 1;}#sk-b8710562-da71-4956-b99d-f22cfd39d36e div.sk-parallel {display: flex;align-items: stretch;justify-content: center;background-color: white;}#sk-b8710562-da71-4956-b99d-f22cfd39d36e div.sk-parallel::before {content: \"\";position: absolute;border-left: 1px solid gray;box-sizing: border-box;top: 2em;bottom: 0;left: 50%;}#sk-b8710562-da71-4956-b99d-f22cfd39d36e div.sk-parallel-item {display: flex;flex-direction: column;position: relative;background-color: white;}#sk-b8710562-da71-4956-b99d-f22cfd39d36e div.sk-parallel-item:first-child::after {align-self: flex-end;width: 50%;}#sk-b8710562-da71-4956-b99d-f22cfd39d36e div.sk-parallel-item:last-child::after {align-self: flex-start;width: 50%;}#sk-b8710562-da71-4956-b99d-f22cfd39d36e div.sk-parallel-item:only-child::after {width: 0;}#sk-b8710562-da71-4956-b99d-f22cfd39d36e div.sk-dashed-wrapped {border: 1px dashed gray;margin: 0 0.4em 0.5em 0.4em;box-sizing: border-box;padding-bottom: 0.4em;background-color: white;position: relative;}#sk-b8710562-da71-4956-b99d-f22cfd39d36e div.sk-label label {font-family: monospace;font-weight: bold;background-color: white;display: inline-block;line-height: 1.2em;}#sk-b8710562-da71-4956-b99d-f22cfd39d36e div.sk-label-container {position: relative;z-index: 2;text-align: center;}#sk-b8710562-da71-4956-b99d-f22cfd39d36e div.sk-container {/* jupyter's `normalize.less` sets `[hidden] { display: none; }` but bootstrap.min.css set `[hidden] { display: none !important; }` so we also need the `!important` here to be able to override the default hidden behavior on the sphinx rendered scikit-learn.org. See: https://github.com/scikit-learn/scikit-learn/issues/21755 */display: inline-block !important;position: relative;}#sk-b8710562-da71-4956-b99d-f22cfd39d36e div.sk-text-repr-fallback {display: none;}</style><div id=\"sk-b8710562-da71-4956-b99d-f22cfd39d36e\" class=\"sk-top-container\"><div class=\"sk-text-repr-fallback\"><pre>Pipeline(steps=[(&#x27;standardscaler&#x27;, StandardScaler()),\n",
       "                (&#x27;ridgecv&#x27;, RidgeCV(alphas=array([ 0.1,  1. , 10. ])))])</pre><b>Please rerun this cell to show the HTML repr or trust the notebook.</b></div><div class=\"sk-container\" hidden><div class=\"sk-item sk-dashed-wrapped\"><div class=\"sk-label-container\"><div class=\"sk-label sk-toggleable\"><input class=\"sk-toggleable__control sk-hidden--visually\" id=\"0b73d1f0-9ffb-477b-b097-ddec38436546\" type=\"checkbox\" ><label for=\"0b73d1f0-9ffb-477b-b097-ddec38436546\" class=\"sk-toggleable__label sk-toggleable__label-arrow\">Pipeline</label><div class=\"sk-toggleable__content\"><pre>Pipeline(steps=[(&#x27;standardscaler&#x27;, StandardScaler()),\n",
       "                (&#x27;ridgecv&#x27;, RidgeCV(alphas=array([ 0.1,  1. , 10. ])))])</pre></div></div></div><div class=\"sk-serial\"><div class=\"sk-item\"><div class=\"sk-estimator sk-toggleable\"><input class=\"sk-toggleable__control sk-hidden--visually\" id=\"8a4426fe-3b90-4795-813c-914a3b46b9db\" type=\"checkbox\" ><label for=\"8a4426fe-3b90-4795-813c-914a3b46b9db\" class=\"sk-toggleable__label sk-toggleable__label-arrow\">StandardScaler</label><div class=\"sk-toggleable__content\"><pre>StandardScaler()</pre></div></div></div><div class=\"sk-item\"><div class=\"sk-estimator sk-toggleable\"><input class=\"sk-toggleable__control sk-hidden--visually\" id=\"503b5c85-e089-4e46-bc0d-33f26747543d\" type=\"checkbox\" ><label for=\"503b5c85-e089-4e46-bc0d-33f26747543d\" class=\"sk-toggleable__label sk-toggleable__label-arrow\">RidgeCV</label><div class=\"sk-toggleable__content\"><pre>RidgeCV(alphas=array([ 0.1,  1. , 10. ]))</pre></div></div></div></div></div></div></div>"
      ],
      "text/plain": [
       "Pipeline(steps=[('standardscaler', StandardScaler()),\n",
       "                ('ridgecv', RidgeCV(alphas=array([ 0.1,  1. , 10. ])))])"
      ]
     },
     "execution_count": 4,
     "metadata": {},
     "output_type": "execute_result"
    }
   ],
   "source": [
    "from sklearn.preprocessing import StandardScaler\n",
    "from sklearn.linear_model import RidgeCV\n",
    "from sklearn.model_selection import ShuffleSplit\n",
    "from sklearn.pipeline import make_pipeline\n",
    "from helpers.myfunctions import plot_pipe\n",
    "\n",
    "scaler = StandardScaler()\n",
    "model = RidgeCV()\n",
    "pipe = make_pipeline(scaler, model)\n",
    "plot_pipe()\n",
    "pipe"
   ]
  },
  {
   "cell_type": "markdown",
   "metadata": {},
   "source": [
    "### Question 1"
   ]
  },
  {
   "cell_type": "code",
   "execution_count": 5,
   "metadata": {},
   "outputs": [
    {
     "data": {
      "text/plain": [
       "-0.002709709612566326"
      ]
     },
     "execution_count": 5,
     "metadata": {},
     "output_type": "execute_result"
    }
   ],
   "source": [
    "data_q1[\"speed-sine-slope\"].mean()"
   ]
  },
  {
   "cell_type": "code",
   "execution_count": 6,
   "metadata": {},
   "outputs": [],
   "source": [
    "from sklearn.model_selection import cross_validate\n",
    "cv = ShuffleSplit(n_splits=4, random_state=0)\n",
    "results = cross_validate(pipe, data_q1, target, scoring=\"neg_mean_absolute_error\", return_estimator=True, return_train_score=True)"
   ]
  },
  {
   "cell_type": "code",
   "execution_count": 7,
   "metadata": {},
   "outputs": [
    {
     "data": {
      "text/plain": [
       "-73.4952387827653"
      ]
     },
     "execution_count": 7,
     "metadata": {},
     "output_type": "execute_result"
    }
   ],
   "source": [
    "results['test_score'].mean()"
   ]
  },
  {
   "cell_type": "code",
   "execution_count": 8,
   "metadata": {},
   "outputs": [
    {
     "data": {
      "text/html": [
       "<div>\n",
       "<style scoped>\n",
       "    .dataframe tbody tr th:only-of-type {\n",
       "        vertical-align: middle;\n",
       "    }\n",
       "\n",
       "    .dataframe tbody tr th {\n",
       "        vertical-align: top;\n",
       "    }\n",
       "\n",
       "    .dataframe thead th {\n",
       "        text-align: right;\n",
       "    }\n",
       "</style>\n",
       "<table border=\"1\" class=\"dataframe\">\n",
       "  <thead>\n",
       "    <tr style=\"text-align: right;\">\n",
       "      <th></th>\n",
       "      <th>cube-speed</th>\n",
       "      <th>speed</th>\n",
       "      <th>speed-sine-slope</th>\n",
       "      <th>speed-accel</th>\n",
       "    </tr>\n",
       "  </thead>\n",
       "  <tbody>\n",
       "    <tr>\n",
       "      <th>0</th>\n",
       "      <td>2.876230</td>\n",
       "      <td>37.229313</td>\n",
       "      <td>81.437145</td>\n",
       "      <td>11.635639</td>\n",
       "    </tr>\n",
       "    <tr>\n",
       "      <th>1</th>\n",
       "      <td>10.338625</td>\n",
       "      <td>27.524391</td>\n",
       "      <td>81.321672</td>\n",
       "      <td>7.168709</td>\n",
       "    </tr>\n",
       "    <tr>\n",
       "      <th>2</th>\n",
       "      <td>5.602097</td>\n",
       "      <td>34.009784</td>\n",
       "      <td>81.048123</td>\n",
       "      <td>11.017244</td>\n",
       "    </tr>\n",
       "    <tr>\n",
       "      <th>3</th>\n",
       "      <td>3.410583</td>\n",
       "      <td>33.699435</td>\n",
       "      <td>76.863534</td>\n",
       "      <td>8.821816</td>\n",
       "    </tr>\n",
       "    <tr>\n",
       "      <th>4</th>\n",
       "      <td>4.602336</td>\n",
       "      <td>30.612378</td>\n",
       "      <td>80.882417</td>\n",
       "      <td>17.268430</td>\n",
       "    </tr>\n",
       "  </tbody>\n",
       "</table>\n",
       "</div>"
      ],
      "text/plain": [
       "   cube-speed      speed  speed-sine-slope  speed-accel\n",
       "0    2.876230  37.229313         81.437145    11.635639\n",
       "1   10.338625  27.524391         81.321672     7.168709\n",
       "2    5.602097  34.009784         81.048123    11.017244\n",
       "3    3.410583  33.699435         76.863534     8.821816\n",
       "4    4.602336  30.612378         80.882417    17.268430"
      ]
     },
     "execution_count": 8,
     "metadata": {},
     "output_type": "execute_result"
    }
   ],
   "source": [
    "model_first_fold = results[\"estimator\"][0]\n",
    "feature_names = model_first_fold[0].get_feature_names_out(\n",
    "    input_features=data_q1.columns)\n",
    "feature_names\n",
    "coefs = [est[-1].coef_ for est in results[\"estimator\"]]\n",
    "weights = pd.DataFrame(coefs, columns=feature_names)\n",
    "weights"
   ]
  },
  {
   "cell_type": "code",
   "execution_count": 9,
   "metadata": {},
   "outputs": [
    {
     "data": {
      "image/png": "[encoded data removed]",
      "text/plain": [
       "<Figure size 432x288 with 1 Axes>"
      ]
     },
     "metadata": {
      "needs_background": "light"
     },
     "output_type": "display_data"
    }
   ],
   "source": [
    "import matplotlib.pyplot as plt\n",
    "ax = weights.plot.box(vert=False)\n",
    "ax.axvline(0, -1, 1, linestyle=\"--\")\n",
    "_ = plt.title(\"Weights distribution of the linear model\")"
   ]
  },
  {
   "cell_type": "code",
   "execution_count": 10,
   "metadata": {},
   "outputs": [],
   "source": [
    "from sklearn.ensemble import HistGradientBoostingRegressor\n",
    "model_hist = HistGradientBoostingRegressor(max_iter=1_000, early_stopping=True, random_state=42)\n",
    "# pipe_ensamble = make_pipeline(StandardScaler(), model_hist)\n",
    "# pipe_ensamble"
   ]
  },
  {
   "cell_type": "code",
   "execution_count": 11,
   "metadata": {},
   "outputs": [
    {
     "name": "stdout",
     "output_type": "stream",
     "text": [
      "Mean Absolute Error for HistGradientBoostingRegressor: 43.836 +/- 0.502\n"
     ]
    }
   ],
   "source": [
    "results_hist = cross_validate(model_hist, data, target, cv=cv, \n",
    "                    scoring=\"neg_mean_absolute_error\", \n",
    "                    return_estimator=True,\n",
    "                    return_train_score=True)\n",
    "errors_hist = -results_hist['test_score']\n",
    "print(f\"Mean Absolute Error for HistGradientBoostingRegressor: {errors_hist.mean():.3f} +/- {errors_hist.std():.3f}\")"
   ]
  },
  {
   "cell_type": "code",
   "execution_count": 12,
   "metadata": {},
   "outputs": [
    {
     "name": "stdout",
     "output_type": "stream",
     "text": [
      "Mean Absolute Error for HistGradientBoostingRegressor test scores: 43.836 +/- 0.502 \n",
      "Mean Absolute Error for HistGradientBoostingRegressor train scores: 40.561 +/- 0.686\n"
     ]
    }
   ],
   "source": [
    "errors_hist = -results_hist['test_score']\n",
    "errors_hist_train = -results_hist['train_score']\n",
    "print(f\"Mean Absolute Error for HistGradientBoostingRegressor test scores: {errors_hist.mean():.3f} +/- {errors_hist.std():.3f} \\n\"\n",
    "        f\"Mean Absolute Error for HistGradientBoostingRegressor train scores: {errors_hist_train.mean():.3f} +/- {errors_hist_train.std():.3f}\")"
   ]
  },
  {
   "cell_type": "code",
   "execution_count": 13,
   "metadata": {},
   "outputs": [
    {
     "name": "stdout",
     "output_type": "stream",
     "text": [
      "Mean Absolute Error for Lineair model test scores: 73.495 +/- 7.371 \n",
      "Mean Absolute Error for Linear model train scores: 72.359 +/- 2.160\n"
     ]
    }
   ],
   "source": [
    "errors_linear = -results['test_score']\n",
    "errors_linear_train = -results['train_score']\n",
    "print(f\"Mean Absolute Error for Lineair model test scores: {errors_linear.mean():.3f} +/- {errors_linear.std():.3f} \\n\"\n",
    "        f\"Mean Absolute Error for Linear model train scores: {errors_linear_train.mean():.3f} +/- {errors_linear_train.std():.3f}\")"
   ]
  },
  {
   "cell_type": "code",
   "execution_count": 14,
   "metadata": {},
   "outputs": [
    {
     "data": {
      "text/html": [
       "<div>\n",
       "<style scoped>\n",
       "    .dataframe tbody tr th:only-of-type {\n",
       "        vertical-align: middle;\n",
       "    }\n",
       "\n",
       "    .dataframe tbody tr th {\n",
       "        vertical-align: top;\n",
       "    }\n",
       "\n",
       "    .dataframe thead th {\n",
       "        text-align: right;\n",
       "    }\n",
       "</style>\n",
       "<table border=\"1\" class=\"dataframe\">\n",
       "  <thead>\n",
       "    <tr style=\"text-align: right;\">\n",
       "      <th></th>\n",
       "      <th>heart-rate</th>\n",
       "      <th>cadence</th>\n",
       "      <th>speed</th>\n",
       "      <th>acceleration</th>\n",
       "      <th>slope</th>\n",
       "    </tr>\n",
       "    <tr>\n",
       "      <th></th>\n",
       "      <th></th>\n",
       "      <th></th>\n",
       "      <th></th>\n",
       "      <th></th>\n",
       "      <th></th>\n",
       "    </tr>\n",
       "  </thead>\n",
       "  <tbody>\n",
       "    <tr>\n",
       "      <th>2020-08-18 14:43:19</th>\n",
       "      <td>102.0</td>\n",
       "      <td>64.0</td>\n",
       "      <td>4.325</td>\n",
       "      <td>0.0880</td>\n",
       "      <td>-0.033870</td>\n",
       "    </tr>\n",
       "    <tr>\n",
       "      <th>2020-08-18 14:43:20</th>\n",
       "      <td>103.0</td>\n",
       "      <td>64.0</td>\n",
       "      <td>4.336</td>\n",
       "      <td>0.0842</td>\n",
       "      <td>-0.033571</td>\n",
       "    </tr>\n",
       "    <tr>\n",
       "      <th>2020-08-18 14:43:21</th>\n",
       "      <td>105.0</td>\n",
       "      <td>66.0</td>\n",
       "      <td>4.409</td>\n",
       "      <td>0.0234</td>\n",
       "      <td>-0.033223</td>\n",
       "    </tr>\n",
       "    <tr>\n",
       "      <th>2020-08-18 14:43:22</th>\n",
       "      <td>106.0</td>\n",
       "      <td>66.0</td>\n",
       "      <td>4.445</td>\n",
       "      <td>0.0016</td>\n",
       "      <td>-0.032908</td>\n",
       "    </tr>\n",
       "    <tr>\n",
       "      <th>2020-08-18 14:43:23</th>\n",
       "      <td>106.0</td>\n",
       "      <td>67.0</td>\n",
       "      <td>4.441</td>\n",
       "      <td>0.1144</td>\n",
       "      <td>0.000000</td>\n",
       "    </tr>\n",
       "  </tbody>\n",
       "</table>\n",
       "</div>"
      ],
      "text/plain": [
       "                     heart-rate  cadence  speed  acceleration     slope\n",
       "                                                                       \n",
       "2020-08-18 14:43:19       102.0     64.0  4.325        0.0880 -0.033870\n",
       "2020-08-18 14:43:20       103.0     64.0  4.336        0.0842 -0.033571\n",
       "2020-08-18 14:43:21       105.0     66.0  4.409        0.0234 -0.033223\n",
       "2020-08-18 14:43:22       106.0     66.0  4.445        0.0016 -0.032908\n",
       "2020-08-18 14:43:23       106.0     67.0  4.441        0.1144  0.000000"
      ]
     },
     "execution_count": 14,
     "metadata": {},
     "output_type": "execute_result"
    }
   ],
   "source": [
    "data.head()"
   ]
  },
  {
   "cell_type": "code",
   "execution_count": 15,
   "metadata": {},
   "outputs": [],
   "source": [
    "all_dates = data.index.date"
   ]
  },
  {
   "cell_type": "code",
   "execution_count": 16,
   "metadata": {},
   "outputs": [
    {
     "name": "stdout",
     "output_type": "stream",
     "text": [
      " There are 4 different dates in the dataset\n"
     ]
    }
   ],
   "source": [
    "print(f\" There are {len(np.unique(data.index.date))} different dates in the dataset\")"
   ]
  },
  {
   "cell_type": "code",
   "execution_count": 17,
   "metadata": {},
   "outputs": [
    {
     "data": {
      "text/plain": [
       "array([0, 0, 0, ..., 3, 3, 3], dtype=int64)"
      ]
     },
     "execution_count": 17,
     "metadata": {},
     "output_type": "execute_result"
    }
   ],
   "source": [
    "#data['group'] = \n",
    "group, uniqes = pd.factorize(data.index.date)\n",
    "group"
   ]
  },
  {
   "cell_type": "code",
   "execution_count": 18,
   "metadata": {},
   "outputs": [
    {
     "data": {
      "text/plain": [
       "array([datetime.date(2020, 8, 18), datetime.date(2020, 8, 20),\n",
       "       datetime.date(2020, 8, 26), datetime.date(2020, 9, 13)],\n",
       "      dtype=object)"
      ]
     },
     "execution_count": 18,
     "metadata": {},
     "output_type": "execute_result"
    }
   ],
   "source": [
    "uniqes"
   ]
  },
  {
   "cell_type": "code",
   "execution_count": 39,
   "metadata": {},
   "outputs": [
    {
     "data": {
      "text/html": [
       "<div>\n",
       "<style scoped>\n",
       "    .dataframe tbody tr th:only-of-type {\n",
       "        vertical-align: middle;\n",
       "    }\n",
       "\n",
       "    .dataframe tbody tr th {\n",
       "        vertical-align: top;\n",
       "    }\n",
       "\n",
       "    .dataframe thead th {\n",
       "        text-align: right;\n",
       "    }\n",
       "</style>\n",
       "<table border=\"1\" class=\"dataframe\">\n",
       "  <thead>\n",
       "    <tr style=\"text-align: right;\">\n",
       "      <th></th>\n",
       "      <th>heart-rate</th>\n",
       "      <th>cadence</th>\n",
       "      <th>speed</th>\n",
       "      <th>acceleration</th>\n",
       "      <th>slope</th>\n",
       "      <th>group</th>\n",
       "    </tr>\n",
       "    <tr>\n",
       "      <th></th>\n",
       "      <th></th>\n",
       "      <th></th>\n",
       "      <th></th>\n",
       "      <th></th>\n",
       "      <th></th>\n",
       "      <th></th>\n",
       "    </tr>\n",
       "  </thead>\n",
       "  <tbody>\n",
       "    <tr>\n",
       "      <th>2020-08-18 14:43:19</th>\n",
       "      <td>102.0</td>\n",
       "      <td>64.0</td>\n",
       "      <td>4.325</td>\n",
       "      <td>0.0880</td>\n",
       "      <td>-0.033870</td>\n",
       "      <td>0</td>\n",
       "    </tr>\n",
       "    <tr>\n",
       "      <th>2020-08-18 14:43:20</th>\n",
       "      <td>103.0</td>\n",
       "      <td>64.0</td>\n",
       "      <td>4.336</td>\n",
       "      <td>0.0842</td>\n",
       "      <td>-0.033571</td>\n",
       "      <td>0</td>\n",
       "    </tr>\n",
       "    <tr>\n",
       "      <th>2020-08-18 14:43:21</th>\n",
       "      <td>105.0</td>\n",
       "      <td>66.0</td>\n",
       "      <td>4.409</td>\n",
       "      <td>0.0234</td>\n",
       "      <td>-0.033223</td>\n",
       "      <td>0</td>\n",
       "    </tr>\n",
       "    <tr>\n",
       "      <th>2020-08-18 14:43:22</th>\n",
       "      <td>106.0</td>\n",
       "      <td>66.0</td>\n",
       "      <td>4.445</td>\n",
       "      <td>0.0016</td>\n",
       "      <td>-0.032908</td>\n",
       "      <td>0</td>\n",
       "    </tr>\n",
       "    <tr>\n",
       "      <th>2020-08-18 14:43:23</th>\n",
       "      <td>106.0</td>\n",
       "      <td>67.0</td>\n",
       "      <td>4.441</td>\n",
       "      <td>0.1144</td>\n",
       "      <td>0.000000</td>\n",
       "      <td>0</td>\n",
       "    </tr>\n",
       "  </tbody>\n",
       "</table>\n",
       "</div>"
      ],
      "text/plain": [
       "                     heart-rate  cadence  speed  acceleration     slope  group\n",
       "                                                                              \n",
       "2020-08-18 14:43:19       102.0     64.0  4.325        0.0880 -0.033870      0\n",
       "2020-08-18 14:43:20       103.0     64.0  4.336        0.0842 -0.033571      0\n",
       "2020-08-18 14:43:21       105.0     66.0  4.409        0.0234 -0.033223      0\n",
       "2020-08-18 14:43:22       106.0     66.0  4.445        0.0016 -0.032908      0\n",
       "2020-08-18 14:43:23       106.0     67.0  4.441        0.1144  0.000000      0"
      ]
     },
     "execution_count": 39,
     "metadata": {},
     "output_type": "execute_result"
    }
   ],
   "source": [
    "data['group'] = group\n",
    "data.head()"
   ]
  },
  {
   "cell_type": "code",
   "execution_count": 40,
   "metadata": {},
   "outputs": [
    {
     "data": {
      "text/html": [
       "<div>\n",
       "<style scoped>\n",
       "    .dataframe tbody tr th:only-of-type {\n",
       "        vertical-align: middle;\n",
       "    }\n",
       "\n",
       "    .dataframe tbody tr th {\n",
       "        vertical-align: top;\n",
       "    }\n",
       "\n",
       "    .dataframe thead th {\n",
       "        text-align: right;\n",
       "    }\n",
       "</style>\n",
       "<table border=\"1\" class=\"dataframe\">\n",
       "  <thead>\n",
       "    <tr style=\"text-align: right;\">\n",
       "      <th></th>\n",
       "      <th>heart-rate</th>\n",
       "      <th>cadence</th>\n",
       "      <th>speed</th>\n",
       "      <th>acceleration</th>\n",
       "      <th>slope</th>\n",
       "    </tr>\n",
       "    <tr>\n",
       "      <th></th>\n",
       "      <th></th>\n",
       "      <th></th>\n",
       "      <th></th>\n",
       "      <th></th>\n",
       "      <th></th>\n",
       "    </tr>\n",
       "  </thead>\n",
       "  <tbody>\n",
       "    <tr>\n",
       "      <th>2020-08-18 14:43:19</th>\n",
       "      <td>102.0</td>\n",
       "      <td>64.0</td>\n",
       "      <td>4.325</td>\n",
       "      <td>0.0880</td>\n",
       "      <td>-0.033870</td>\n",
       "    </tr>\n",
       "    <tr>\n",
       "      <th>2020-08-18 14:43:20</th>\n",
       "      <td>103.0</td>\n",
       "      <td>64.0</td>\n",
       "      <td>4.336</td>\n",
       "      <td>0.0842</td>\n",
       "      <td>-0.033571</td>\n",
       "    </tr>\n",
       "    <tr>\n",
       "      <th>2020-08-18 14:43:21</th>\n",
       "      <td>105.0</td>\n",
       "      <td>66.0</td>\n",
       "      <td>4.409</td>\n",
       "      <td>0.0234</td>\n",
       "      <td>-0.033223</td>\n",
       "    </tr>\n",
       "    <tr>\n",
       "      <th>2020-08-18 14:43:22</th>\n",
       "      <td>106.0</td>\n",
       "      <td>66.0</td>\n",
       "      <td>4.445</td>\n",
       "      <td>0.0016</td>\n",
       "      <td>-0.032908</td>\n",
       "    </tr>\n",
       "    <tr>\n",
       "      <th>2020-08-18 14:43:23</th>\n",
       "      <td>106.0</td>\n",
       "      <td>67.0</td>\n",
       "      <td>4.441</td>\n",
       "      <td>0.1144</td>\n",
       "      <td>0.000000</td>\n",
       "    </tr>\n",
       "    <tr>\n",
       "      <th>...</th>\n",
       "      <td>...</td>\n",
       "      <td>...</td>\n",
       "      <td>...</td>\n",
       "      <td>...</td>\n",
       "      <td>...</td>\n",
       "    </tr>\n",
       "    <tr>\n",
       "      <th>2020-09-13 14:55:57</th>\n",
       "      <td>130.0</td>\n",
       "      <td>0.0</td>\n",
       "      <td>1.054</td>\n",
       "      <td>0.0234</td>\n",
       "      <td>0.000000</td>\n",
       "    </tr>\n",
       "    <tr>\n",
       "      <th>2020-09-13 14:55:58</th>\n",
       "      <td>130.0</td>\n",
       "      <td>0.0</td>\n",
       "      <td>0.829</td>\n",
       "      <td>0.0258</td>\n",
       "      <td>0.000000</td>\n",
       "    </tr>\n",
       "    <tr>\n",
       "      <th>2020-09-13 14:55:59</th>\n",
       "      <td>129.0</td>\n",
       "      <td>0.0</td>\n",
       "      <td>0.616</td>\n",
       "      <td>-0.1686</td>\n",
       "      <td>0.000000</td>\n",
       "    </tr>\n",
       "    <tr>\n",
       "      <th>2020-09-13 14:56:00</th>\n",
       "      <td>130.0</td>\n",
       "      <td>0.0</td>\n",
       "      <td>0.000</td>\n",
       "      <td>-0.4284</td>\n",
       "      <td>0.000000</td>\n",
       "    </tr>\n",
       "    <tr>\n",
       "      <th>2020-09-13 14:56:01</th>\n",
       "      <td>130.0</td>\n",
       "      <td>0.0</td>\n",
       "      <td>0.000</td>\n",
       "      <td>-0.3096</td>\n",
       "      <td>0.000000</td>\n",
       "    </tr>\n",
       "  </tbody>\n",
       "</table>\n",
       "<p>38254 rows × 5 columns</p>\n",
       "</div>"
      ],
      "text/plain": [
       "                     heart-rate  cadence  speed  acceleration     slope\n",
       "                                                                       \n",
       "2020-08-18 14:43:19       102.0     64.0  4.325        0.0880 -0.033870\n",
       "2020-08-18 14:43:20       103.0     64.0  4.336        0.0842 -0.033571\n",
       "2020-08-18 14:43:21       105.0     66.0  4.409        0.0234 -0.033223\n",
       "2020-08-18 14:43:22       106.0     66.0  4.445        0.0016 -0.032908\n",
       "2020-08-18 14:43:23       106.0     67.0  4.441        0.1144  0.000000\n",
       "...                         ...      ...    ...           ...       ...\n",
       "2020-09-13 14:55:57       130.0      0.0  1.054        0.0234  0.000000\n",
       "2020-09-13 14:55:58       130.0      0.0  0.829        0.0258  0.000000\n",
       "2020-09-13 14:55:59       129.0      0.0  0.616       -0.1686  0.000000\n",
       "2020-09-13 14:56:00       130.0      0.0  0.000       -0.4284  0.000000\n",
       "2020-09-13 14:56:01       130.0      0.0  0.000       -0.3096  0.000000\n",
       "\n",
       "[38254 rows x 5 columns]"
      ]
     },
     "execution_count": 40,
     "metadata": {},
     "output_type": "execute_result"
    }
   ],
   "source": [
    "data.drop(columns='group')"
   ]
  },
  {
   "cell_type": "code",
   "execution_count": 43,
   "metadata": {},
   "outputs": [],
   "source": [
    "from sklearn.model_selection import LeaveOneGroupOut\n",
    "cv=LeaveOneGroupOut()\n",
    "results_hist_leaveone = cross_validate(model_hist, data, target, cv=cv, groups=group, # using full data\n",
    "                    scoring=\"neg_mean_absolute_error\", \n",
    "                    return_estimator=True,\n",
    "                    return_train_score=True,\n",
    "                    n_jobs=2)"
   ]
  },
  {
   "cell_type": "code",
   "execution_count": 44,
   "metadata": {},
   "outputs": [
    {
     "name": "stdout",
     "output_type": "stream",
     "text": [
      "Mean Absolute Error for HistGradientBoostingRegressor - Leaveoneout test scores: 51.978 +/- 3.823 \n",
      "Mean Absolute Error for HistGradientBoostingRegressor  - Leaveoneout train scores: 37.762 +/- 0.958\n"
     ]
    }
   ],
   "source": [
    "errors_hist_leaveone_train = -results_hist_leaveone['train_score']\n",
    "errors_hist_leaveone_test = -results_hist_leaveone['test_score']\n",
    "print(f\"Mean Absolute Error for HistGradientBoostingRegressor - Leaveoneout test scores: {errors_hist_leaveone_test.mean():.3f} +/- {errors_hist_leaveone_test.std():.3f} \\n\"\n",
    "        f\"Mean Absolute Error for HistGradientBoostingRegressor  - Leaveoneout train scores: {errors_hist_leaveone_train.mean():.3f} +/- {errors_hist_leaveone_train.std():.3f}\")"
   ]
  },
  {
   "cell_type": "code",
   "execution_count": 37,
   "metadata": {},
   "outputs": [],
   "source": [
    "results_lin_leaveone = cross_validate(pipe, data_q1, target, cv=cv, groups=group, # using only formula data\n",
    "                    scoring=\"neg_mean_absolute_error\",\n",
    "                    return_estimator=True, \n",
    "                    return_train_score=True)"
   ]
  },
  {
   "cell_type": "code",
   "execution_count": 38,
   "metadata": {},
   "outputs": [
    {
     "name": "stdout",
     "output_type": "stream",
     "text": [
      "Mean Absolute Error for Linear model - Leaveoneout test scores: 73.015 +/- 5.779 \n",
      "Mean Absolute Error for Linear model - Leaveoneout train scores: 72.249 +/- 2.247\n"
     ]
    }
   ],
   "source": [
    "errors_lin_leaveone_train = -results_lin_leaveone['train_score']\n",
    "errors_lin_leaveone_test = -results_lin_leaveone['test_score']\n",
    "print(f\"Mean Absolute Error for Linear model - Leaveoneout test scores: {errors_lin_leaveone_test.mean():.3f} +/- {errors_lin_leaveone_test.std():.3f} \\n\"\n",
    "        f\"Mean Absolute Error for Linear model - Leaveoneout train scores: {errors_lin_leaveone_train.mean():.3f} +/- {errors_lin_leaveone_train.std():.3f}\")"
   ]
  },
  {
   "cell_type": "code",
   "execution_count": 45,
   "metadata": {},
   "outputs": [
    {
     "name": "stdout",
     "output_type": "stream",
     "text": [
      "LOGO has a difference in test error with ShuffleSplit of \n",
      "LOGO: 73.015, SHPLT: 73.495 gives a difference of \n",
      "-0.480\n"
     ]
    }
   ],
   "source": [
    "print(f\"LOGO has a difference in test error with ShuffleSplit of \\n\"\n",
    "    f\"LOGO: {errors_lin_leaveone_test.mean():.3f}, SHPLT: {errors_linear.mean():.3f} gives a difference of \\n\"\n",
    "    f\"{errors_lin_leaveone_test.mean() - errors_linear.mean():.3f}\")"
   ]
  },
  {
   "cell_type": "code",
   "execution_count": 46,
   "metadata": {},
   "outputs": [
    {
     "name": "stdout",
     "output_type": "stream",
     "text": [
      "LOGO has a difference in test error with ShuffleSplit of \n",
      "LOGO: 51.978, SHPLT: 43.836 gives a difference of \n",
      "8.142\n"
     ]
    }
   ],
   "source": [
    "print(f\"LOGO has a difference in test error with ShuffleSplit of \\n\"\n",
    "    f\"LOGO: {errors_hist_leaveone_test.mean():.3f}, SHPLT: {errors_hist.mean():.3f} gives a difference of \\n\"\n",
    "    f\"{errors_hist_leaveone_test.mean() - errors_hist.mean():.3f}\")"
   ]
  },
  {
   "cell_type": "code",
   "execution_count": 47,
   "metadata": {},
   "outputs": [],
   "source": [
    "cv = LeaveOneGroupOut()\n",
    "train_indices, test_indices = list(cv.split(data, target, groups=group))[0]\n",
    "\n",
    "data_linear_model_train = data_q1.iloc[train_indices]\n",
    "data_linear_model_test = data_q1.iloc[test_indices]\n",
    "\n",
    "data_train = data.iloc[train_indices]\n",
    "data_test = data.iloc[test_indices]\n",
    "\n",
    "target_train = target.iloc[train_indices]\n",
    "target_test = target.iloc[test_indices]"
   ]
  },
  {
   "cell_type": "code",
   "execution_count": 48,
   "metadata": {},
   "outputs": [
    {
     "data": {
      "text/html": [
       "<style>#sk-08952140-9445-4110-ba13-72f5233c002b {color: black;background-color: white;}#sk-08952140-9445-4110-ba13-72f5233c002b pre{padding: 0;}#sk-08952140-9445-4110-ba13-72f5233c002b div.sk-toggleable {background-color: white;}#sk-08952140-9445-4110-ba13-72f5233c002b label.sk-toggleable__label {cursor: pointer;display: block;width: 100%;margin-bottom: 0;padding: 0.3em;box-sizing: border-box;text-align: center;}#sk-08952140-9445-4110-ba13-72f5233c002b label.sk-toggleable__label-arrow:before {content: \"▸\";float: left;margin-right: 0.25em;color: #696969;}#sk-08952140-9445-4110-ba13-72f5233c002b label.sk-toggleable__label-arrow:hover:before {color: black;}#sk-08952140-9445-4110-ba13-72f5233c002b div.sk-estimator:hover label.sk-toggleable__label-arrow:before {color: black;}#sk-08952140-9445-4110-ba13-72f5233c002b div.sk-toggleable__content {max-height: 0;max-width: 0;overflow: hidden;text-align: left;background-color: #f0f8ff;}#sk-08952140-9445-4110-ba13-72f5233c002b div.sk-toggleable__content pre {margin: 0.2em;color: black;border-radius: 0.25em;background-color: #f0f8ff;}#sk-08952140-9445-4110-ba13-72f5233c002b input.sk-toggleable__control:checked~div.sk-toggleable__content {max-height: 200px;max-width: 100%;overflow: auto;}#sk-08952140-9445-4110-ba13-72f5233c002b input.sk-toggleable__control:checked~label.sk-toggleable__label-arrow:before {content: \"▾\";}#sk-08952140-9445-4110-ba13-72f5233c002b div.sk-estimator input.sk-toggleable__control:checked~label.sk-toggleable__label {background-color: #d4ebff;}#sk-08952140-9445-4110-ba13-72f5233c002b div.sk-label input.sk-toggleable__control:checked~label.sk-toggleable__label {background-color: #d4ebff;}#sk-08952140-9445-4110-ba13-72f5233c002b input.sk-hidden--visually {border: 0;clip: rect(1px 1px 1px 1px);clip: rect(1px, 1px, 1px, 1px);height: 1px;margin: -1px;overflow: hidden;padding: 0;position: absolute;width: 1px;}#sk-08952140-9445-4110-ba13-72f5233c002b div.sk-estimator {font-family: monospace;background-color: #f0f8ff;border: 1px dotted black;border-radius: 0.25em;box-sizing: border-box;margin-bottom: 0.5em;}#sk-08952140-9445-4110-ba13-72f5233c002b div.sk-estimator:hover {background-color: #d4ebff;}#sk-08952140-9445-4110-ba13-72f5233c002b div.sk-parallel-item::after {content: \"\";width: 100%;border-bottom: 1px solid gray;flex-grow: 1;}#sk-08952140-9445-4110-ba13-72f5233c002b div.sk-label:hover label.sk-toggleable__label {background-color: #d4ebff;}#sk-08952140-9445-4110-ba13-72f5233c002b div.sk-serial::before {content: \"\";position: absolute;border-left: 1px solid gray;box-sizing: border-box;top: 2em;bottom: 0;left: 50%;}#sk-08952140-9445-4110-ba13-72f5233c002b div.sk-serial {display: flex;flex-direction: column;align-items: center;background-color: white;padding-right: 0.2em;padding-left: 0.2em;}#sk-08952140-9445-4110-ba13-72f5233c002b div.sk-item {z-index: 1;}#sk-08952140-9445-4110-ba13-72f5233c002b div.sk-parallel {display: flex;align-items: stretch;justify-content: center;background-color: white;}#sk-08952140-9445-4110-ba13-72f5233c002b div.sk-parallel::before {content: \"\";position: absolute;border-left: 1px solid gray;box-sizing: border-box;top: 2em;bottom: 0;left: 50%;}#sk-08952140-9445-4110-ba13-72f5233c002b div.sk-parallel-item {display: flex;flex-direction: column;position: relative;background-color: white;}#sk-08952140-9445-4110-ba13-72f5233c002b div.sk-parallel-item:first-child::after {align-self: flex-end;width: 50%;}#sk-08952140-9445-4110-ba13-72f5233c002b div.sk-parallel-item:last-child::after {align-self: flex-start;width: 50%;}#sk-08952140-9445-4110-ba13-72f5233c002b div.sk-parallel-item:only-child::after {width: 0;}#sk-08952140-9445-4110-ba13-72f5233c002b div.sk-dashed-wrapped {border: 1px dashed gray;margin: 0 0.4em 0.5em 0.4em;box-sizing: border-box;padding-bottom: 0.4em;background-color: white;position: relative;}#sk-08952140-9445-4110-ba13-72f5233c002b div.sk-label label {font-family: monospace;font-weight: bold;background-color: white;display: inline-block;line-height: 1.2em;}#sk-08952140-9445-4110-ba13-72f5233c002b div.sk-label-container {position: relative;z-index: 2;text-align: center;}#sk-08952140-9445-4110-ba13-72f5233c002b div.sk-container {/* jupyter's `normalize.less` sets `[hidden] { display: none; }` but bootstrap.min.css set `[hidden] { display: none !important; }` so we also need the `!important` here to be able to override the default hidden behavior on the sphinx rendered scikit-learn.org. See: https://github.com/scikit-learn/scikit-learn/issues/21755 */display: inline-block !important;position: relative;}#sk-08952140-9445-4110-ba13-72f5233c002b div.sk-text-repr-fallback {display: none;}</style><div id=\"sk-08952140-9445-4110-ba13-72f5233c002b\" class=\"sk-top-container\"><div class=\"sk-text-repr-fallback\"><pre>Pipeline(steps=[(&#x27;standardscaler&#x27;, StandardScaler()),\n",
       "                (&#x27;ridgecv&#x27;, RidgeCV(alphas=array([ 0.1,  1. , 10. ])))])</pre><b>Please rerun this cell to show the HTML repr or trust the notebook.</b></div><div class=\"sk-container\" hidden><div class=\"sk-item sk-dashed-wrapped\"><div class=\"sk-label-container\"><div class=\"sk-label sk-toggleable\"><input class=\"sk-toggleable__control sk-hidden--visually\" id=\"098d0601-27e5-41d9-b435-354d53111e72\" type=\"checkbox\" ><label for=\"098d0601-27e5-41d9-b435-354d53111e72\" class=\"sk-toggleable__label sk-toggleable__label-arrow\">Pipeline</label><div class=\"sk-toggleable__content\"><pre>Pipeline(steps=[(&#x27;standardscaler&#x27;, StandardScaler()),\n",
       "                (&#x27;ridgecv&#x27;, RidgeCV(alphas=array([ 0.1,  1. , 10. ])))])</pre></div></div></div><div class=\"sk-serial\"><div class=\"sk-item\"><div class=\"sk-estimator sk-toggleable\"><input class=\"sk-toggleable__control sk-hidden--visually\" id=\"91b67edc-7683-4405-bcf1-fb9c132e92a6\" type=\"checkbox\" ><label for=\"91b67edc-7683-4405-bcf1-fb9c132e92a6\" class=\"sk-toggleable__label sk-toggleable__label-arrow\">StandardScaler</label><div class=\"sk-toggleable__content\"><pre>StandardScaler()</pre></div></div></div><div class=\"sk-item\"><div class=\"sk-estimator sk-toggleable\"><input class=\"sk-toggleable__control sk-hidden--visually\" id=\"e392b003-43b5-4e25-994b-e3bf84c69bb0\" type=\"checkbox\" ><label for=\"e392b003-43b5-4e25-994b-e3bf84c69bb0\" class=\"sk-toggleable__label sk-toggleable__label-arrow\">RidgeCV</label><div class=\"sk-toggleable__content\"><pre>RidgeCV(alphas=array([ 0.1,  1. , 10. ]))</pre></div></div></div></div></div></div></div>"
      ],
      "text/plain": [
       "Pipeline(steps=[('standardscaler', StandardScaler()),\n",
       "                ('ridgecv', RidgeCV(alphas=array([ 0.1,  1. , 10. ])))])"
      ]
     },
     "execution_count": 48,
     "metadata": {},
     "output_type": "execute_result"
    }
   ],
   "source": [
    "pipe.fit(data_linear_model_train, target_train)"
   ]
  },
  {
   "cell_type": "code",
   "execution_count": 49,
   "metadata": {},
   "outputs": [],
   "source": [
    "prediction = pipe.predict(data_linear_model_test)"
   ]
  },
  {
   "cell_type": "code",
   "execution_count": 50,
   "metadata": {},
   "outputs": [
    {
     "data": {
      "text/plain": [
       "array([ 93.42223143,  93.75052407,  92.49489593, ..., 107.06972315,\n",
       "       113.13215418, 108.00975246])"
      ]
     },
     "execution_count": 50,
     "metadata": {},
     "output_type": "execute_result"
    }
   ],
   "source": [
    "prediction"
   ]
  },
  {
   "cell_type": "code",
   "execution_count": 61,
   "metadata": {},
   "outputs": [
    {
     "data": {
      "text/plain": [
       "<matplotlib.legend.Legend at 0x1ed593ae7a0>"
      ]
     },
     "execution_count": 61,
     "metadata": {},
     "output_type": "execute_result"
    },
    {
     "data": {
      "image/png": "[encoded data removed]",
      "text/plain": [
       "<Figure size 720x432 with 1 Axes>"
      ]
     },
     "metadata": {
      "needs_background": "light"
     },
     "output_type": "display_data"
    }
   ],
   "source": [
    "ax = target_test.plot(label='True Target', figsize=(10,6))\n",
    "ax.plot(target_test.index, prediction, label='linear model prediction')\n",
    "plt.legend()"
   ]
  },
  {
   "cell_type": "code",
   "execution_count": 63,
   "metadata": {},
   "outputs": [
    {
     "data": {
      "text/plain": [
       "<matplotlib.collections.PathCollection at 0x1ed593dcdf0>"
      ]
     },
     "execution_count": 63,
     "metadata": {},
     "output_type": "execute_result"
    },
    {
     "data": {
      "image/png": "[encoded data removed]",
      "text/plain": [
       "<Figure size 432x288 with 1 Axes>"
      ]
     },
     "metadata": {
      "needs_background": "light"
     },
     "output_type": "display_data"
    }
   ],
   "source": [
    "plt.scatter(target_test, prediction, alpha=0.5, c='blue')"
   ]
  },
  {
   "cell_type": "code",
   "execution_count": 64,
   "metadata": {},
   "outputs": [],
   "source": [
    "model_hist.fit(data_train, target_train)\n",
    "predict_hist = model_hist.predict(data_test)"
   ]
  },
  {
   "cell_type": "code",
   "execution_count": 65,
   "metadata": {},
   "outputs": [
    {
     "data": {
      "text/plain": [
       "<matplotlib.legend.Legend at 0x1ed593adc60>"
      ]
     },
     "execution_count": 65,
     "metadata": {},
     "output_type": "execute_result"
    },
    {
     "data": {
      "image/png": "[encoded data removed]",
      "text/plain": [
       "<Figure size 720x432 with 1 Axes>"
      ]
     },
     "metadata": {
      "needs_background": "light"
     },
     "output_type": "display_data"
    }
   ],
   "source": [
    "ax = target_test.plot(label='True Target', figsize=(10,6))\n",
    "ax.plot(target_test.index, predict_hist, label='linear model prediction')\n",
    "plt.legend()"
   ]
  },
  {
   "cell_type": "code",
   "execution_count": 66,
   "metadata": {},
   "outputs": [
    {
     "data": {
      "text/plain": [
       "<matplotlib.collections.PathCollection at 0x1ed5935c970>"
      ]
     },
     "execution_count": 66,
     "metadata": {},
     "output_type": "execute_result"
    },
    {
     "data": {
      "image/png": "[encoded data removed]",
      "text/plain": [
       "<Figure size 432x288 with 1 Axes>"
      ]
     },
     "metadata": {
      "needs_background": "light"
     },
     "output_type": "display_data"
    }
   ],
   "source": [
    "plt.scatter(target_test, predict_hist, alpha=0.5, c='blue')"
   ]
  },
  {
   "cell_type": "code",
   "execution_count": null,
   "metadata": {},
   "outputs": [],
   "source": []
  }
 ],
 "metadata": {
  "interpreter": {
   "hash": "40469cbefc865c98a6a8a50bfa4bd6fc483fa3f708d1590d8e65e598cca438ff"
  },
  "kernelspec": {
   "display_name": "Python 3.10.4 64-bit (windows store)",
   "language": "python",
   "name": "python3"
  },
  "language_info": {
   "codemirror_mode": {
    "name": "ipython",
    "version": 3
   },
   "file_extension": ".py",
   "mimetype": "text/x-python",
   "name": "python",
   "nbconvert_exporter": "python",
   "pygments_lexer": "ipython3",
   "version": "3.10.4"
  },
  "orig_nbformat": 4
 },
 "nbformat": 4,
 "nbformat_minor": 2
}
