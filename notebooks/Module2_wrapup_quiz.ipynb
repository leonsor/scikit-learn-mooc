{
 "cells": [
  {
   "cell_type": "code",
   "execution_count": 1,
   "metadata": {},
   "outputs": [],
   "source": [
    "import pandas as pd\n",
    "\n",
    "blood_transfusion = pd.read_csv(\"../datasets/blood_transfusion.csv\")\n",
    "target_name = \"Class\"\n",
    "data = blood_transfusion.drop(columns=target_name)\n",
    "target = blood_transfusion[target_name]"
   ]
  },
  {
   "cell_type": "code",
   "execution_count": 2,
   "metadata": {},
   "outputs": [
    {
     "name": "stdout",
     "output_type": "stream",
     "text": [
      "<class 'pandas.core.frame.DataFrame'>\n",
      "RangeIndex: 748 entries, 0 to 747\n",
      "Data columns (total 4 columns):\n",
      " #   Column     Non-Null Count  Dtype\n",
      "---  ------     --------------  -----\n",
      " 0   Recency    748 non-null    int64\n",
      " 1   Frequency  748 non-null    int64\n",
      " 2   Monetary   748 non-null    int64\n",
      " 3   Time       748 non-null    int64\n",
      "dtypes: int64(4)\n",
      "memory usage: 23.5 KB\n"
     ]
    }
   ],
   "source": [
    "data.info()"
   ]
  },
  {
   "cell_type": "code",
   "execution_count": 3,
   "metadata": {},
   "outputs": [
    {
     "data": {
      "text/plain": [
       "not donated    570\n",
       "donated        178\n",
       "Name: Class, dtype: int64"
      ]
     },
     "execution_count": 3,
     "metadata": {},
     "output_type": "execute_result"
    }
   ],
   "source": [
    "blood_transfusion['Class'].value_counts()"
   ]
  },
  {
   "cell_type": "code",
   "execution_count": 4,
   "metadata": {},
   "outputs": [
    {
     "data": {
      "text/plain": [
       "0.762054054054054"
      ]
     },
     "execution_count": 4,
     "metadata": {},
     "output_type": "execute_result"
    }
   ],
   "source": [
    "from sklearn.dummy import DummyClassifier\n",
    "from sklearn.model_selection import cross_validate, cross_val_score, cross_val_predict\n",
    "# to_predict = 'donated'\n",
    "donated = DummyClassifier(strategy='most_frequent', random_state=0)\n",
    "cv_results = cross_validate(donated, data, target, cv=10)\n",
    "cv_results['test_score'].mean()"
   ]
  },
  {
   "cell_type": "code",
   "execution_count": 5,
   "metadata": {},
   "outputs": [
    {
     "data": {
      "text/plain": [
       "0.5"
      ]
     },
     "execution_count": 5,
     "metadata": {},
     "output_type": "execute_result"
    }
   ],
   "source": [
    "donated = DummyClassifier(strategy='most_frequent', random_state=0)\n",
    "cv_results = cross_validate(donated, data, target, cv=10, scoring=\"balanced_accuracy\")\n",
    "cv_results['test_score'].mean()"
   ]
  },
  {
   "cell_type": "code",
   "execution_count": 6,
   "metadata": {},
   "outputs": [
    {
     "data": {
      "text/plain": [
       "{'fit_time': array([0.01198983, 0.0179708 , 0.01835084, 0.01399016, 0.        ,\n",
       "        0.01896381, 0.        , 0.00599909, 0.00499701, 0.02663875]),\n",
       " 'score_time': array([0.01192451, 0.02263474, 0.00824761, 0.01874065, 0.03179407,\n",
       "        0.00600362, 0.        , 0.00899529, 0.0142138 , 0.02998781]),\n",
       " 'test_score': array([0.34666667, 0.57333333, 0.48      , 0.50666667, 0.6       ,\n",
       "        0.66666667, 0.62666667, 0.64      , 0.60810811, 0.75675676]),\n",
       " 'train_score': array([0.92867756, 0.93610698, 0.92719168, 0.93759287, 0.93164933,\n",
       "        0.93313522, 0.91827637, 0.91084695, 0.93768546, 0.90356083])}"
      ]
     },
     "execution_count": 6,
     "metadata": {},
     "output_type": "execute_result"
    }
   ],
   "source": [
    "from sklearn.pipeline import make_pipeline\n",
    "from sklearn.preprocessing import StandardScaler\n",
    "from sklearn.neighbors import KNeighborsClassifier\n",
    "model = make_pipeline(StandardScaler(), KNeighborsClassifier(n_neighbors=1))\n",
    "cv_results = cross_validate(model, data, target, cv=10, return_train_score=True)\n",
    "cv_results"
   ]
  },
  {
   "cell_type": "code",
   "execution_count": 7,
   "metadata": {},
   "outputs": [
    {
     "name": "stdout",
     "output_type": "stream",
     "text": [
      "Mean train score: 0.926 and Mean test score: 0.580\n"
     ]
    }
   ],
   "source": [
    "print(f\"Mean train score: {cv_results['train_score'].mean():.3f} and Mean test score: {cv_results['test_score'].mean():.3f}\")"
   ]
  },
  {
   "cell_type": "code",
   "execution_count": 8,
   "metadata": {},
   "outputs": [],
   "source": [
    "from sklearn.model_selection import validation_curve\n",
    "\n",
    "param_range = [1, 2, 5, 10, 20, 50, 100, 200, 500]\n",
    "train_scores, test_scores = validation_curve(\n",
    "    model, data, target, param_name=\"kneighborsclassifier__n_neighbors\", param_range=param_range,\n",
    "    cv=5, scoring=\"balanced_accuracy\", n_jobs=2)\n",
    "# train_errors, test_errors = -train_scores, -test_scores"
   ]
  },
  {
   "cell_type": "code",
   "execution_count": 9,
   "metadata": {},
   "outputs": [
    {
     "data": {
      "image/png": "[encoded data removed]",
      "text/plain": [
       "<Figure size 432x288 with 1 Axes>"
      ]
     },
     "metadata": {
      "needs_background": "light"
     },
     "output_type": "display_data"
    }
   ],
   "source": [
    "train_errors, test_errors = -train_scores, -test_scores\n",
    "import matplotlib.pyplot as plt\n",
    "plt.plot(param_range, train_errors.mean(axis=1), label=\"Training error\")\n",
    "plt.plot(param_range, test_errors.mean(axis=1), label=\"Testing error\")\n",
    "plt.legend()\n",
    "\n",
    "plt.xlabel(\"Number of KNeighbors\")\n",
    "plt.ylabel(\"Mean absolute error (k$)\")\n",
    "_ = plt.title(\"Validation curve for model\")"
   ]
  }
 ],
 "metadata": {
  "interpreter": {
   "hash": "af6055aee08e3866ddcaba80be1c3a04a710a79de7318457a92c5b882439b16c"
  },
  "kernelspec": {
   "display_name": "Python 3.10.2 64-bit (windows store)",
   "language": "python",
   "name": "python3"
  },
  "language_info": {
   "codemirror_mode": {
    "name": "ipython",
    "version": 3
   },
   "file_extension": ".py",
   "mimetype": "text/x-python",
   "name": "python",
   "nbconvert_exporter": "python",
   "pygments_lexer": "ipython3",
   "version": "3.10.2"
  },
  "orig_nbformat": 4
 },
 "nbformat": 4,
 "nbformat_minor": 2
}
